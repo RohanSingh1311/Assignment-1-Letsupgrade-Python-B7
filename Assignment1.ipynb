{
  "nbformat": 4,
  "nbformat_minor": 0,
  "metadata": {
    "colab": {
      "name": "Assignment1.ipynb",
      "provenance": []
    },
    "kernelspec": {
      "name": "python3",
      "display_name": "Python 3"
    }
  },
  "cells": [
    {
      "cell_type": "markdown",
      "metadata": {
        "id": "o6noBKjtYXHm",
        "colab_type": "text"
      },
      "source": [
        "**#List**"
      ]
    },
    {
      "cell_type": "code",
      "metadata": {
        "id": "gxHbvUaPLjee",
        "colab_type": "code",
        "colab": {}
      },
      "source": [
        " \n",
        "#list defaults\n",
        "Lst=[\"rahul\", \"singh\", 1,2,[\"abc\",24, 63,798.34],89.54]"
      ],
      "execution_count": null,
      "outputs": []
    },
    {
      "cell_type": "code",
      "metadata": {
        "id": "f0iwImz9MHd0",
        "colab_type": "code",
        "colab": {
          "base_uri": "https://localhost:8080/",
          "height": 54
        },
        "outputId": "6cf9d75b-87b5-48a1-a6bf-51594f60beb9"
      },
      "source": [
        "Lst"
      ],
      "execution_count": null,
      "outputs": [
        {
          "output_type": "execute_result",
          "data": {
            "text/plain": [
              "['rahul', 'singh', 1, 2, ['abc', 24, 63, 798.34], 89.54]"
            ]
          },
          "metadata": {
            "tags": []
          },
          "execution_count": 2
        }
      ]
    },
    {
      "cell_type": "code",
      "metadata": {
        "id": "QRmDdF5TMNQf",
        "colab_type": "code",
        "colab": {
          "base_uri": "https://localhost:8080/",
          "height": 34
        },
        "outputId": "7eaeca19-328e-4bf0-f96e-166713e8e1ee"
      },
      "source": [
        "Lst.index(1)"
      ],
      "execution_count": null,
      "outputs": [
        {
          "output_type": "execute_result",
          "data": {
            "text/plain": [
              "2"
            ]
          },
          "metadata": {
            "tags": []
          },
          "execution_count": 3
        }
      ]
    },
    {
      "cell_type": "code",
      "metadata": {
        "id": "t9RsIu9oMfuR",
        "colab_type": "code",
        "colab": {}
      },
      "source": [
        "Lst.append(1897)"
      ],
      "execution_count": null,
      "outputs": []
    },
    {
      "cell_type": "code",
      "metadata": {
        "id": "zRk3nz8OMn0p",
        "colab_type": "code",
        "colab": {
          "base_uri": "https://localhost:8080/",
          "height": 54
        },
        "outputId": "19218c1f-c74e-4ab7-a52b-421425a3405b"
      },
      "source": [
        "Lst"
      ],
      "execution_count": null,
      "outputs": [
        {
          "output_type": "execute_result",
          "data": {
            "text/plain": [
              "['rahul', 'singh', 1, 2, ['abc', 24, 63, 798.34], 89.54, 1897]"
            ]
          },
          "metadata": {
            "tags": []
          },
          "execution_count": 5
        }
      ]
    },
    {
      "cell_type": "code",
      "metadata": {
        "id": "qsqcA1l8NVre",
        "colab_type": "code",
        "colab": {}
      },
      "source": [
        "Lst.remove(\"singh\")"
      ],
      "execution_count": null,
      "outputs": []
    },
    {
      "cell_type": "code",
      "metadata": {
        "id": "372GwEJcNfZd",
        "colab_type": "code",
        "colab": {
          "base_uri": "https://localhost:8080/",
          "height": 54
        },
        "outputId": "de07f090-03af-402f-f627-e5a504505e59"
      },
      "source": [
        "Lst"
      ],
      "execution_count": null,
      "outputs": [
        {
          "output_type": "execute_result",
          "data": {
            "text/plain": [
              "['rahul', 1, 2, ['abc', 24, 63, 798.34], 89.54, 1897]"
            ]
          },
          "metadata": {
            "tags": []
          },
          "execution_count": 7
        }
      ]
    },
    {
      "cell_type": "code",
      "metadata": {
        "id": "xZ_oF827Nm4u",
        "colab_type": "code",
        "colab": {
          "base_uri": "https://localhost:8080/",
          "height": 34
        },
        "outputId": "2d07ceca-f6e6-4f9c-879b-32281bc176e8"
      },
      "source": [
        "Lst.pop(2)"
      ],
      "execution_count": null,
      "outputs": [
        {
          "output_type": "execute_result",
          "data": {
            "text/plain": [
              "2"
            ]
          },
          "metadata": {
            "tags": []
          },
          "execution_count": 8
        }
      ]
    },
    {
      "cell_type": "code",
      "metadata": {
        "id": "eNXOL1O6N3VI",
        "colab_type": "code",
        "colab": {
          "base_uri": "https://localhost:8080/",
          "height": 54
        },
        "outputId": "002ed0c0-ab19-4d5a-afc6-8c95d1e239d3"
      },
      "source": [
        "Lst"
      ],
      "execution_count": null,
      "outputs": [
        {
          "output_type": "execute_result",
          "data": {
            "text/plain": [
              "['rahul', 1, ['abc', 24, 63, 798.34], 89.54, 1897]"
            ]
          },
          "metadata": {
            "tags": []
          },
          "execution_count": 9
        }
      ]
    },
    {
      "cell_type": "code",
      "metadata": {
        "id": "OySibZv0OVew",
        "colab_type": "code",
        "colab": {
          "base_uri": "https://localhost:8080/",
          "height": 34
        },
        "outputId": "e0294b3c-a00b-482e-8b17-1b6dbfe3635e"
      },
      "source": [
        "Lst.count(\"rahul\")"
      ],
      "execution_count": null,
      "outputs": [
        {
          "output_type": "execute_result",
          "data": {
            "text/plain": [
              "1"
            ]
          },
          "metadata": {
            "tags": []
          },
          "execution_count": 10
        }
      ]
    },
    {
      "cell_type": "code",
      "metadata": {
        "id": "NKA3dQT-Ocb2",
        "colab_type": "code",
        "colab": {}
      },
      "source": [
        "Lst.reverse()"
      ],
      "execution_count": null,
      "outputs": []
    },
    {
      "cell_type": "code",
      "metadata": {
        "id": "GreMISxNOyAv",
        "colab_type": "code",
        "colab": {
          "base_uri": "https://localhost:8080/",
          "height": 54
        },
        "outputId": "74e46003-7cc5-4443-927b-7b7042559b7a"
      },
      "source": [
        "Lst"
      ],
      "execution_count": null,
      "outputs": [
        {
          "output_type": "execute_result",
          "data": {
            "text/plain": [
              "[1897, 89.54, ['abc', 24, 63, 798.34], 1, 'rahul']"
            ]
          },
          "metadata": {
            "tags": []
          },
          "execution_count": 12
        }
      ]
    },
    {
      "cell_type": "code",
      "metadata": {
        "id": "xr30aWQoO022",
        "colab_type": "code",
        "colab": {}
      },
      "source": [
        "Lst.reverse()"
      ],
      "execution_count": null,
      "outputs": []
    },
    {
      "cell_type": "code",
      "metadata": {
        "id": "ZXvwvdvlO5LE",
        "colab_type": "code",
        "colab": {
          "base_uri": "https://localhost:8080/",
          "height": 54
        },
        "outputId": "6c12a18f-c87c-432d-b18a-109e1da489db"
      },
      "source": [
        "Lst"
      ],
      "execution_count": null,
      "outputs": [
        {
          "output_type": "execute_result",
          "data": {
            "text/plain": [
              "['rahul', 1, ['abc', 24, 63, 798.34], 89.54, 1897]"
            ]
          },
          "metadata": {
            "tags": []
          },
          "execution_count": 14
        }
      ]
    },
    {
      "cell_type": "code",
      "metadata": {
        "id": "lKQ3LrL7O-IP",
        "colab_type": "code",
        "colab": {}
      },
      "source": [
        "Lst.insert(1,\"singh\")"
      ],
      "execution_count": null,
      "outputs": []
    },
    {
      "cell_type": "code",
      "metadata": {
        "id": "jZNPhWYhPVBh",
        "colab_type": "code",
        "colab": {
          "base_uri": "https://localhost:8080/",
          "height": 54
        },
        "outputId": "258700a1-7753-4ca5-e7fe-420100d837da"
      },
      "source": [
        "Lst"
      ],
      "execution_count": null,
      "outputs": [
        {
          "output_type": "execute_result",
          "data": {
            "text/plain": [
              "['rahul', 'singh', 1, ['abc', 24, 63, 798.34], 89.54, 1897]"
            ]
          },
          "metadata": {
            "tags": []
          },
          "execution_count": 17
        }
      ]
    },
    {
      "cell_type": "code",
      "metadata": {
        "id": "9FsFc67lPYWJ",
        "colab_type": "code",
        "colab": {}
      },
      "source": [
        "Lst2=[\"Letsupgrade\",\"Sai\"]"
      ],
      "execution_count": null,
      "outputs": []
    },
    {
      "cell_type": "code",
      "metadata": {
        "id": "cR2rSFg_P4fO",
        "colab_type": "code",
        "colab": {}
      },
      "source": [
        "Lst.extend(Lst2)"
      ],
      "execution_count": null,
      "outputs": []
    },
    {
      "cell_type": "code",
      "metadata": {
        "id": "AutBW3aXP-O4",
        "colab_type": "code",
        "colab": {
          "base_uri": "https://localhost:8080/",
          "height": 154
        },
        "outputId": "c412f744-e60b-4aa1-e81f-8d344c91bfc7"
      },
      "source": [
        "Lst"
      ],
      "execution_count": null,
      "outputs": [
        {
          "output_type": "execute_result",
          "data": {
            "text/plain": [
              "['rahul',\n",
              " 'singh',\n",
              " 1,\n",
              " ['abc', 24, 63, 798.34],\n",
              " 89.54,\n",
              " 1897,\n",
              " 'Letsupgrade',\n",
              " 'Sai']"
            ]
          },
          "metadata": {
            "tags": []
          },
          "execution_count": 20
        }
      ]
    },
    {
      "cell_type": "code",
      "metadata": {
        "id": "ZbW1z2fkQQ3N",
        "colab_type": "code",
        "colab": {}
      },
      "source": [
        "Lst3= Lst2.copy()"
      ],
      "execution_count": null,
      "outputs": []
    },
    {
      "cell_type": "code",
      "metadata": {
        "id": "QzUB4PXOQeC9",
        "colab_type": "code",
        "colab": {
          "base_uri": "https://localhost:8080/",
          "height": 34
        },
        "outputId": "28fd9bc2-dda2-4f00-cb6a-5845a40d56c0"
      },
      "source": [
        "Lst3"
      ],
      "execution_count": null,
      "outputs": [
        {
          "output_type": "execute_result",
          "data": {
            "text/plain": [
              "['Letsupgrade', 'Sai']"
            ]
          },
          "metadata": {
            "tags": []
          },
          "execution_count": 23
        }
      ]
    },
    {
      "cell_type": "code",
      "metadata": {
        "id": "w1YqGCIgQiNR",
        "colab_type": "code",
        "colab": {}
      },
      "source": [
        "Lst3.clear()"
      ],
      "execution_count": null,
      "outputs": []
    },
    {
      "cell_type": "code",
      "metadata": {
        "id": "a6P2YvQ4Ql70",
        "colab_type": "code",
        "colab": {
          "base_uri": "https://localhost:8080/",
          "height": 34
        },
        "outputId": "3a7d14ef-63f7-4378-c970-d9a5d54449b3"
      },
      "source": [
        "Lst3"
      ],
      "execution_count": null,
      "outputs": [
        {
          "output_type": "execute_result",
          "data": {
            "text/plain": [
              "[]"
            ]
          },
          "metadata": {
            "tags": []
          },
          "execution_count": 25
        }
      ]
    },
    {
      "cell_type": "markdown",
      "metadata": {
        "id": "tTPwKY1KQ9YK",
        "colab_type": "text"
      },
      "source": [
        "**#Dictionary**"
      ]
    },
    {
      "cell_type": "code",
      "metadata": {
        "id": "1VIIl1sgRV8B",
        "colab_type": "code",
        "colab": {}
      },
      "source": [
        "Dit={\"name\":\"rahul\", \"age\":18,\"Pin\":1234,\"number\":123456}"
      ],
      "execution_count": null,
      "outputs": []
    },
    {
      "cell_type": "code",
      "metadata": {
        "id": "l9KicAhTR6PP",
        "colab_type": "code",
        "colab": {
          "base_uri": "https://localhost:8080/",
          "height": 54
        },
        "outputId": "0dc5ffe3-9f26-4c76-df5e-7d141f994d04"
      },
      "source": [
        "Dit"
      ],
      "execution_count": null,
      "outputs": [
        {
          "output_type": "execute_result",
          "data": {
            "text/plain": [
              "{'Pin': 1234, 'age': 18, 'name': 'rahul', 'number': 123456}"
            ]
          },
          "metadata": {
            "tags": []
          },
          "execution_count": 29
        }
      ]
    },
    {
      "cell_type": "code",
      "metadata": {
        "id": "xISzMk1uSbL3",
        "colab_type": "code",
        "colab": {}
      },
      "source": [
        "Dit1= Dit.copy()"
      ],
      "execution_count": null,
      "outputs": []
    },
    {
      "cell_type": "code",
      "metadata": {
        "id": "osGxyT1pSinQ",
        "colab_type": "code",
        "colab": {
          "base_uri": "https://localhost:8080/",
          "height": 54
        },
        "outputId": "8b672afe-ec98-4cb9-d261-25ef4e7050f5"
      },
      "source": [
        "Dit1"
      ],
      "execution_count": null,
      "outputs": [
        {
          "output_type": "execute_result",
          "data": {
            "text/plain": [
              "{'Pin': 1234, 'age': 18, 'name': 'rahul', 'number': 123456}"
            ]
          },
          "metadata": {
            "tags": []
          },
          "execution_count": 31
        }
      ]
    },
    {
      "cell_type": "code",
      "metadata": {
        "id": "HfPxprB-SmYv",
        "colab_type": "code",
        "colab": {}
      },
      "source": [
        "Dit1.clear()"
      ],
      "execution_count": null,
      "outputs": []
    },
    {
      "cell_type": "code",
      "metadata": {
        "id": "sXUx5RUOSqVc",
        "colab_type": "code",
        "colab": {
          "base_uri": "https://localhost:8080/",
          "height": 34
        },
        "outputId": "171db574-b8e1-451d-f145-3220ed310115"
      },
      "source": [
        "Dit1"
      ],
      "execution_count": null,
      "outputs": [
        {
          "output_type": "execute_result",
          "data": {
            "text/plain": [
              "{}"
            ]
          },
          "metadata": {
            "tags": []
          },
          "execution_count": 33
        }
      ]
    },
    {
      "cell_type": "code",
      "metadata": {
        "id": "2SxdxNW8TKxa",
        "colab_type": "code",
        "colab": {
          "base_uri": "https://localhost:8080/",
          "height": 34
        },
        "outputId": "ad782892-71ca-4365-d912-3ae20258afca"
      },
      "source": [
        "Dit.popitem()"
      ],
      "execution_count": null,
      "outputs": [
        {
          "output_type": "execute_result",
          "data": {
            "text/plain": [
              "('number', 123456)"
            ]
          },
          "metadata": {
            "tags": []
          },
          "execution_count": 35
        }
      ]
    },
    {
      "cell_type": "code",
      "metadata": {
        "id": "vbHFpx4dToof",
        "colab_type": "code",
        "colab": {
          "base_uri": "https://localhost:8080/",
          "height": 54
        },
        "outputId": "a20468ce-ca9b-4534-c6dd-afc2760025fe"
      },
      "source": [
        "Dit"
      ],
      "execution_count": null,
      "outputs": [
        {
          "output_type": "execute_result",
          "data": {
            "text/plain": [
              "{'Pin': 1234, 'age': 18, 'name': 'rahul'}"
            ]
          },
          "metadata": {
            "tags": []
          },
          "execution_count": 36
        }
      ]
    },
    {
      "cell_type": "code",
      "metadata": {
        "id": "ZRVE36VGTtSi",
        "colab_type": "code",
        "colab": {}
      },
      "source": [
        "Dit3={\"msg\":\"hi\"}"
      ],
      "execution_count": null,
      "outputs": []
    },
    {
      "cell_type": "code",
      "metadata": {
        "id": "wwXCzmbbUX0a",
        "colab_type": "code",
        "colab": {}
      },
      "source": [
        "Dit.update(Dit3)"
      ],
      "execution_count": null,
      "outputs": []
    },
    {
      "cell_type": "code",
      "metadata": {
        "id": "ydXJN6R8UesX",
        "colab_type": "code",
        "colab": {
          "base_uri": "https://localhost:8080/",
          "height": 54
        },
        "outputId": "e4febe29-f7f7-4309-c118-deca3ca6a2ce"
      },
      "source": [
        "Dit"
      ],
      "execution_count": null,
      "outputs": [
        {
          "output_type": "execute_result",
          "data": {
            "text/plain": [
              "{'Pin': 1234, 'age': 18, 'msg': 'hi', 'name': 'rahul'}"
            ]
          },
          "metadata": {
            "tags": []
          },
          "execution_count": 39
        }
      ]
    },
    {
      "cell_type": "code",
      "metadata": {
        "id": "wI3hB0H4UyC4",
        "colab_type": "code",
        "colab": {
          "base_uri": "https://localhost:8080/",
          "height": 34
        },
        "outputId": "585e1953-da03-487c-fb7a-c60806c40ce6"
      },
      "source": [
        "Dit.get(\"name\")"
      ],
      "execution_count": null,
      "outputs": [
        {
          "output_type": "execute_result",
          "data": {
            "application/vnd.google.colaboratory.intrinsic+json": {
              "type": "string"
            },
            "text/plain": [
              "'rahul'"
            ]
          },
          "metadata": {
            "tags": []
          },
          "execution_count": 52
        }
      ]
    },
    {
      "cell_type": "code",
      "metadata": {
        "id": "HxZckXhjWQ9M",
        "colab_type": "code",
        "colab": {
          "base_uri": "https://localhost:8080/",
          "height": 54
        },
        "outputId": "f9dbff28-6755-4cbd-89ff-1a10474e33b0"
      },
      "source": [
        "Dit.items()"
      ],
      "execution_count": null,
      "outputs": [
        {
          "output_type": "execute_result",
          "data": {
            "text/plain": [
              "dict_items([('name', 'rahul'), ('age', 18), ('Pin', 1234), ('msg', 'hi')])"
            ]
          },
          "metadata": {
            "tags": []
          },
          "execution_count": 53
        }
      ]
    },
    {
      "cell_type": "code",
      "metadata": {
        "id": "A6WktLH2WZMC",
        "colab_type": "code",
        "colab": {
          "base_uri": "https://localhost:8080/",
          "height": 34
        },
        "outputId": "0bfc03f0-2a9d-45c4-f554-180b52f543c2"
      },
      "source": [
        "Dit.pop(\"msg\")"
      ],
      "execution_count": null,
      "outputs": [
        {
          "output_type": "execute_result",
          "data": {
            "application/vnd.google.colaboratory.intrinsic+json": {
              "type": "string"
            },
            "text/plain": [
              "'hi'"
            ]
          },
          "metadata": {
            "tags": []
          },
          "execution_count": 55
        }
      ]
    },
    {
      "cell_type": "code",
      "metadata": {
        "id": "uboo9GuFWf7m",
        "colab_type": "code",
        "colab": {
          "base_uri": "https://localhost:8080/",
          "height": 54
        },
        "outputId": "94408bcd-0eb9-4001-8c1d-0d79ab0d78c4"
      },
      "source": [
        "Dit"
      ],
      "execution_count": null,
      "outputs": [
        {
          "output_type": "execute_result",
          "data": {
            "text/plain": [
              "{'Pin': 1234, 'age': 18, 'name': 'rahul'}"
            ]
          },
          "metadata": {
            "tags": []
          },
          "execution_count": 56
        }
      ]
    },
    {
      "cell_type": "code",
      "metadata": {
        "id": "L4l8AUopWstl",
        "colab_type": "code",
        "colab": {}
      },
      "source": [
        "Dit9={}"
      ],
      "execution_count": null,
      "outputs": []
    },
    {
      "cell_type": "code",
      "metadata": {
        "id": "IfSaBWx5XCuU",
        "colab_type": "code",
        "colab": {
          "base_uri": "https://localhost:8080/",
          "height": 34
        },
        "outputId": "59979c43-2208-4c6b-d285-28b10ad18968"
      },
      "source": [
        "Dit9.keys()"
      ],
      "execution_count": null,
      "outputs": [
        {
          "output_type": "execute_result",
          "data": {
            "text/plain": [
              "dict_keys([])"
            ]
          },
          "metadata": {
            "tags": []
          },
          "execution_count": 60
        }
      ]
    },
    {
      "cell_type": "code",
      "metadata": {
        "id": "nouzKIrZXNbU",
        "colab_type": "code",
        "colab": {
          "base_uri": "https://localhost:8080/",
          "height": 34
        },
        "outputId": "841f9a83-71a5-44e7-97af-c8886f8a6c7a"
      },
      "source": [
        "Dit.keys()"
      ],
      "execution_count": null,
      "outputs": [
        {
          "output_type": "execute_result",
          "data": {
            "text/plain": [
              "dict_keys(['name', 'age', 'Pin'])"
            ]
          },
          "metadata": {
            "tags": []
          },
          "execution_count": 61
        }
      ]
    },
    {
      "cell_type": "code",
      "metadata": {
        "id": "6AcYzuskXSGi",
        "colab_type": "code",
        "colab": {
          "base_uri": "https://localhost:8080/",
          "height": 54
        },
        "outputId": "ee48ce8d-3608-41bc-c6ee-2f5c36d30a2b"
      },
      "source": [
        "dict.fromkeys(Dit)"
      ],
      "execution_count": null,
      "outputs": [
        {
          "output_type": "execute_result",
          "data": {
            "text/plain": [
              "{'Pin': None, 'age': None, 'name': None}"
            ]
          },
          "metadata": {
            "tags": []
          },
          "execution_count": 64
        }
      ]
    },
    {
      "cell_type": "markdown",
      "metadata": {
        "id": "XGSacvzDYEL_",
        "colab_type": "text"
      },
      "source": [
        "**#SETS**"
      ]
    },
    {
      "cell_type": "code",
      "metadata": {
        "id": "wXG1cs6MYJmH",
        "colab_type": "code",
        "colab": {}
      },
      "source": [
        "Stb={\"ram\", \"glacier\",1,2,44,66,44,523,66,76,66,3,7.78,6,44}"
      ],
      "execution_count": null,
      "outputs": []
    },
    {
      "cell_type": "code",
      "metadata": {
        "id": "kBkHk3n2ZLw1",
        "colab_type": "code",
        "colab": {}
      },
      "source": [
        "Stb.add(\"abc\")"
      ],
      "execution_count": null,
      "outputs": []
    },
    {
      "cell_type": "code",
      "metadata": {
        "id": "arz9C-GiZPyb",
        "colab_type": "code",
        "colab": {
          "base_uri": "https://localhost:8080/",
          "height": 54
        },
        "outputId": "72f2edfa-138b-4a20-cdb8-3887d24646c8"
      },
      "source": [
        "Stb"
      ],
      "execution_count": null,
      "outputs": [
        {
          "output_type": "execute_result",
          "data": {
            "text/plain": [
              "{1, 2, 3, 44, 523, 6, 66, 7.78, 76, 'abc', 'glacier', 'ram'}"
            ]
          },
          "metadata": {
            "tags": []
          },
          "execution_count": 69
        }
      ]
    },
    {
      "cell_type": "code",
      "metadata": {
        "id": "zEPwIBgQZWln",
        "colab_type": "code",
        "colab": {}
      },
      "source": [
        "St1= Stb.copy()"
      ],
      "execution_count": null,
      "outputs": []
    },
    {
      "cell_type": "code",
      "metadata": {
        "id": "3rEWSylSZhgA",
        "colab_type": "code",
        "colab": {
          "base_uri": "https://localhost:8080/",
          "height": 54
        },
        "outputId": "5ca86308-5b84-46e5-832b-23116d833dd6"
      },
      "source": [
        "St1"
      ],
      "execution_count": null,
      "outputs": [
        {
          "output_type": "execute_result",
          "data": {
            "text/plain": [
              "{1, 2, 3, 44, 523, 6, 66, 7.78, 76, 'abc', 'glacier', 'ram'}"
            ]
          },
          "metadata": {
            "tags": []
          },
          "execution_count": 72
        }
      ]
    },
    {
      "cell_type": "code",
      "metadata": {
        "id": "q0g2Fz0AZkTy",
        "colab_type": "code",
        "colab": {}
      },
      "source": [
        "St1.clear()"
      ],
      "execution_count": null,
      "outputs": []
    },
    {
      "cell_type": "code",
      "metadata": {
        "id": "p7UskH4KZoyF",
        "colab_type": "code",
        "colab": {
          "base_uri": "https://localhost:8080/",
          "height": 34
        },
        "outputId": "19dee645-ebbc-432d-ab53-593f778c6bbe"
      },
      "source": [
        "St1"
      ],
      "execution_count": null,
      "outputs": [
        {
          "output_type": "execute_result",
          "data": {
            "text/plain": [
              "set()"
            ]
          },
          "metadata": {
            "tags": []
          },
          "execution_count": 74
        }
      ]
    },
    {
      "cell_type": "code",
      "metadata": {
        "id": "Od55SygqZ8fG",
        "colab_type": "code",
        "colab": {}
      },
      "source": [
        "Stb.discard(2)"
      ],
      "execution_count": null,
      "outputs": []
    },
    {
      "cell_type": "code",
      "metadata": {
        "id": "-mJ2Za_YaAey",
        "colab_type": "code",
        "colab": {
          "base_uri": "https://localhost:8080/",
          "height": 54
        },
        "outputId": "99bcf4f5-351c-4325-c00c-a173f8da9158"
      },
      "source": [
        "Stb"
      ],
      "execution_count": null,
      "outputs": [
        {
          "output_type": "execute_result",
          "data": {
            "text/plain": [
              "{1, 3, 44, 523, 6, 66, 7.78, 76, 'abc', 'glacier', 'ram'}"
            ]
          },
          "metadata": {
            "tags": []
          },
          "execution_count": 76
        }
      ]
    },
    {
      "cell_type": "code",
      "metadata": {
        "id": "eju5mvOsaD58",
        "colab_type": "code",
        "colab": {}
      },
      "source": [
        "St1.add(\"hwjw\")"
      ],
      "execution_count": null,
      "outputs": []
    },
    {
      "cell_type": "code",
      "metadata": {
        "id": "mBdCvOGMaQhd",
        "colab_type": "code",
        "colab": {}
      },
      "source": [
        "St1.add(771990)"
      ],
      "execution_count": null,
      "outputs": []
    },
    {
      "cell_type": "code",
      "metadata": {
        "id": "riInlskXagKq",
        "colab_type": "code",
        "colab": {}
      },
      "source": [
        "St1.add(1)"
      ],
      "execution_count": null,
      "outputs": []
    },
    {
      "cell_type": "code",
      "metadata": {
        "id": "laALPshRak-D",
        "colab_type": "code",
        "colab": {
          "base_uri": "https://localhost:8080/",
          "height": 34
        },
        "outputId": "be891fb2-5a42-41c8-d769-58cad913cadf"
      },
      "source": [
        "St1"
      ],
      "execution_count": null,
      "outputs": [
        {
          "output_type": "execute_result",
          "data": {
            "text/plain": [
              "{3, 771990, 'hwjw'}"
            ]
          },
          "metadata": {
            "tags": []
          },
          "execution_count": 83
        }
      ]
    },
    {
      "cell_type": "code",
      "metadata": {
        "id": "o0bYamv_aooX",
        "colab_type": "code",
        "colab": {}
      },
      "source": [
        "St1.add(1)"
      ],
      "execution_count": null,
      "outputs": []
    },
    {
      "cell_type": "code",
      "metadata": {
        "id": "na_I6sQ9aVKZ",
        "colab_type": "code",
        "colab": {
          "base_uri": "https://localhost:8080/",
          "height": 34
        },
        "outputId": "38f93a31-d43f-46f7-ff9e-bbb9c2ca6af2"
      },
      "source": [
        "St1"
      ],
      "execution_count": null,
      "outputs": [
        {
          "output_type": "execute_result",
          "data": {
            "text/plain": [
              "{771990, 'hwjw'}"
            ]
          },
          "metadata": {
            "tags": []
          },
          "execution_count": 80
        }
      ]
    },
    {
      "cell_type": "code",
      "metadata": {
        "id": "6EROqrCYaXWE",
        "colab_type": "code",
        "colab": {}
      },
      "source": [
        "St1.add(3)"
      ],
      "execution_count": null,
      "outputs": []
    },
    {
      "cell_type": "code",
      "metadata": {
        "id": "60eNqCakarBd",
        "colab_type": "code",
        "colab": {
          "base_uri": "https://localhost:8080/",
          "height": 34
        },
        "outputId": "6648ee75-62b4-4d93-f296-79bbead76a38"
      },
      "source": [
        "St1"
      ],
      "execution_count": null,
      "outputs": [
        {
          "output_type": "execute_result",
          "data": {
            "text/plain": [
              "{1, 3, 771990, 'hwjw'}"
            ]
          },
          "metadata": {
            "tags": []
          },
          "execution_count": 85
        }
      ]
    },
    {
      "cell_type": "code",
      "metadata": {
        "id": "GmLjDnQibCvz",
        "colab_type": "code",
        "colab": {
          "base_uri": "https://localhost:8080/",
          "height": 54
        },
        "outputId": "29b8d0c1-be1f-4f7a-8f23-7598b2bcffd2"
      },
      "source": [
        "Stb.difference(St1)"
      ],
      "execution_count": null,
      "outputs": [
        {
          "output_type": "execute_result",
          "data": {
            "text/plain": [
              "{44, 523, 6, 66, 7.78, 76, 'abc', 'glacier', 'ram'}"
            ]
          },
          "metadata": {
            "tags": []
          },
          "execution_count": 87
        }
      ]
    },
    {
      "cell_type": "code",
      "metadata": {
        "id": "zSwMnIpXbZrI",
        "colab_type": "code",
        "colab": {}
      },
      "source": [
        "Stb.difference_update(St1)"
      ],
      "execution_count": null,
      "outputs": []
    },
    {
      "cell_type": "code",
      "metadata": {
        "id": "EsYoM6EKbhQ9",
        "colab_type": "code",
        "colab": {
          "base_uri": "https://localhost:8080/",
          "height": 54
        },
        "outputId": "92a31a6d-5cee-4ac4-d5f9-15ed43e0c251"
      },
      "source": [
        "Stb"
      ],
      "execution_count": null,
      "outputs": [
        {
          "output_type": "execute_result",
          "data": {
            "text/plain": [
              "{44, 523, 6, 66, 7.78, 76, 'abc', 'glacier', 'ram'}"
            ]
          },
          "metadata": {
            "tags": []
          },
          "execution_count": 89
        }
      ]
    },
    {
      "cell_type": "code",
      "metadata": {
        "id": "bwKjUrBjbpoP",
        "colab_type": "code",
        "colab": {}
      },
      "source": [
        "Stb.add(1)"
      ],
      "execution_count": null,
      "outputs": []
    },
    {
      "cell_type": "code",
      "metadata": {
        "id": "QPB1kk9YbvyZ",
        "colab_type": "code",
        "colab": {}
      },
      "source": [
        "Stb.add(2)"
      ],
      "execution_count": null,
      "outputs": []
    },
    {
      "cell_type": "code",
      "metadata": {
        "id": "wsZONoiDb0D9",
        "colab_type": "code",
        "colab": {}
      },
      "source": [
        "Stb.add(3)"
      ],
      "execution_count": null,
      "outputs": []
    },
    {
      "cell_type": "code",
      "metadata": {
        "id": "t9pAoh_Fb4Wn",
        "colab_type": "code",
        "colab": {
          "base_uri": "https://localhost:8080/",
          "height": 54
        },
        "outputId": "82edddee-ac31-41b9-8bc6-4ee7550c39cc"
      },
      "source": [
        "Stb"
      ],
      "execution_count": null,
      "outputs": [
        {
          "output_type": "execute_result",
          "data": {
            "text/plain": [
              "{1, 2, 3, 44, 523, 6, 66, 7.78, 76, 'abc', 'glacier', 'ram'}"
            ]
          },
          "metadata": {
            "tags": []
          },
          "execution_count": 93
        }
      ]
    },
    {
      "cell_type": "code",
      "metadata": {
        "id": "9TlycOFqb6WK",
        "colab_type": "code",
        "colab": {
          "base_uri": "https://localhost:8080/",
          "height": 34
        },
        "outputId": "4c765413-2d4d-428f-f545-6439bdec6525"
      },
      "source": [
        "Stb.intersection(St1)"
      ],
      "execution_count": null,
      "outputs": [
        {
          "output_type": "execute_result",
          "data": {
            "text/plain": [
              "{1, 3}"
            ]
          },
          "metadata": {
            "tags": []
          },
          "execution_count": 95
        }
      ]
    },
    {
      "cell_type": "code",
      "metadata": {
        "id": "_xkev1PrcB7v",
        "colab_type": "code",
        "colab": {
          "base_uri": "https://localhost:8080/",
          "height": 34
        },
        "outputId": "b498efc9-d908-4946-f3b9-436a67d3465b"
      },
      "source": [
        "St1"
      ],
      "execution_count": null,
      "outputs": [
        {
          "output_type": "execute_result",
          "data": {
            "text/plain": [
              "{1, 3, 771990, 'hwjw'}"
            ]
          },
          "metadata": {
            "tags": []
          },
          "execution_count": 96
        }
      ]
    },
    {
      "cell_type": "code",
      "metadata": {
        "id": "h_wKsRCHcD9n",
        "colab_type": "code",
        "colab": {}
      },
      "source": [
        "St1.intersection_update(Stb)"
      ],
      "execution_count": null,
      "outputs": []
    },
    {
      "cell_type": "code",
      "metadata": {
        "id": "lUKfCXzecKoh",
        "colab_type": "code",
        "colab": {
          "base_uri": "https://localhost:8080/",
          "height": 34
        },
        "outputId": "2c4739b4-839e-440a-f44b-f38cad72139e"
      },
      "source": [
        "St1"
      ],
      "execution_count": null,
      "outputs": [
        {
          "output_type": "execute_result",
          "data": {
            "text/plain": [
              "{1, 3}"
            ]
          },
          "metadata": {
            "tags": []
          },
          "execution_count": 98
        }
      ]
    },
    {
      "cell_type": "code",
      "metadata": {
        "id": "yNi-ThNAcO-i",
        "colab_type": "code",
        "colab": {
          "base_uri": "https://localhost:8080/",
          "height": 34
        },
        "outputId": "16d4f7dc-7a3d-4259-da62-c309ae8c2f30"
      },
      "source": [
        "St1.issubset(Stb)"
      ],
      "execution_count": null,
      "outputs": [
        {
          "output_type": "execute_result",
          "data": {
            "text/plain": [
              "True"
            ]
          },
          "metadata": {
            "tags": []
          },
          "execution_count": 99
        }
      ]
    },
    {
      "cell_type": "code",
      "metadata": {
        "id": "zHHDp_d0cUQ5",
        "colab_type": "code",
        "colab": {
          "base_uri": "https://localhost:8080/",
          "height": 34
        },
        "outputId": "51f8f1b8-73c6-4fe5-fa4e-d3e24eea9924"
      },
      "source": [
        "St1.isdisjoint(Stb)"
      ],
      "execution_count": null,
      "outputs": [
        {
          "output_type": "execute_result",
          "data": {
            "text/plain": [
              "False"
            ]
          },
          "metadata": {
            "tags": []
          },
          "execution_count": 100
        }
      ]
    },
    {
      "cell_type": "markdown",
      "metadata": {
        "id": "9K2wjxl-ca45",
        "colab_type": "text"
      },
      "source": [
        " **#Tuples**"
      ]
    },
    {
      "cell_type": "code",
      "metadata": {
        "id": "bWi0KOl4co2k",
        "colab_type": "code",
        "colab": {}
      },
      "source": [
        "Tap=(\"hello\",1234,\"fake world\")"
      ],
      "execution_count": null,
      "outputs": []
    },
    {
      "cell_type": "code",
      "metadata": {
        "id": "burzCrzfc1us",
        "colab_type": "code",
        "colab": {
          "base_uri": "https://localhost:8080/",
          "height": 34
        },
        "outputId": "af832641-4ab2-41f3-e490-6a04115bb575"
      },
      "source": [
        "Tap"
      ],
      "execution_count": null,
      "outputs": [
        {
          "output_type": "execute_result",
          "data": {
            "text/plain": [
              "('hello', 1234, 'fake world')"
            ]
          },
          "metadata": {
            "tags": []
          },
          "execution_count": 102
        }
      ]
    },
    {
      "cell_type": "code",
      "metadata": {
        "id": "gezRW9Nnc44S",
        "colab_type": "code",
        "colab": {
          "base_uri": "https://localhost:8080/",
          "height": 34
        },
        "outputId": "28f85d9a-ca87-48d9-bd11-88ee232206a5"
      },
      "source": [
        "Tap.count(1234)"
      ],
      "execution_count": null,
      "outputs": [
        {
          "output_type": "execute_result",
          "data": {
            "text/plain": [
              "1"
            ]
          },
          "metadata": {
            "tags": []
          },
          "execution_count": 103
        }
      ]
    },
    {
      "cell_type": "code",
      "metadata": {
        "id": "DTmMijA4c_6A",
        "colab_type": "code",
        "colab": {
          "base_uri": "https://localhost:8080/",
          "height": 34
        },
        "outputId": "ba694000-0e60-4fe4-8937-2608f095265c"
      },
      "source": [
        "Tap.index(1234)"
      ],
      "execution_count": null,
      "outputs": [
        {
          "output_type": "execute_result",
          "data": {
            "text/plain": [
              "1"
            ]
          },
          "metadata": {
            "tags": []
          },
          "execution_count": 104
        }
      ]
    },
    {
      "cell_type": "markdown",
      "metadata": {
        "id": "Az1fhkmFeDic",
        "colab_type": "text"
      },
      "source": [
        "**#STRING**"
      ]
    },
    {
      "cell_type": "code",
      "metadata": {
        "id": "KwvrnqkkeIMb",
        "colab_type": "code",
        "colab": {}
      },
      "source": [
        "A1=\"abcd\""
      ],
      "execution_count": null,
      "outputs": []
    },
    {
      "cell_type": "code",
      "metadata": {
        "id": "um5wx8exeUF3",
        "colab_type": "code",
        "colab": {}
      },
      "source": [
        "A2=\"pQr\""
      ],
      "execution_count": null,
      "outputs": []
    },
    {
      "cell_type": "code",
      "metadata": {
        "id": "pAF9S_39edES",
        "colab_type": "code",
        "colab": {}
      },
      "source": [
        "A3=A1.join(A2)"
      ],
      "execution_count": null,
      "outputs": []
    },
    {
      "cell_type": "code",
      "metadata": {
        "id": "SbdvvDKme-SK",
        "colab_type": "code",
        "colab": {
          "base_uri": "https://localhost:8080/",
          "height": 34
        },
        "outputId": "91d0805c-15c1-4109-c520-8ad143805f1c"
      },
      "source": [
        "print(A3)"
      ],
      "execution_count": null,
      "outputs": [
        {
          "output_type": "stream",
          "text": [
            "pabcdQabcdr\n"
          ],
          "name": "stdout"
        }
      ]
    },
    {
      "cell_type": "code",
      "metadata": {
        "id": "tA0twPrNfETS",
        "colab_type": "code",
        "colab": {
          "base_uri": "https://localhost:8080/",
          "height": 34
        },
        "outputId": "fa14b490-41c3-4481-fd89-aa226b26d742"
      },
      "source": [
        "A1.isupper()"
      ],
      "execution_count": null,
      "outputs": [
        {
          "output_type": "execute_result",
          "data": {
            "text/plain": [
              "False"
            ]
          },
          "metadata": {
            "tags": []
          },
          "execution_count": 112
        }
      ]
    },
    {
      "cell_type": "code",
      "metadata": {
        "id": "8d9_FBw1fMTt",
        "colab_type": "code",
        "colab": {
          "base_uri": "https://localhost:8080/",
          "height": 34
        },
        "outputId": "154eb80e-097c-489e-81b8-808e5631dc8f"
      },
      "source": [
        "A2.lower()"
      ],
      "execution_count": null,
      "outputs": [
        {
          "output_type": "execute_result",
          "data": {
            "application/vnd.google.colaboratory.intrinsic+json": {
              "type": "string"
            },
            "text/plain": [
              "'pqr'"
            ]
          },
          "metadata": {
            "tags": []
          },
          "execution_count": 113
        }
      ]
    },
    {
      "cell_type": "code",
      "metadata": {
        "id": "H4FiL9clfRoL",
        "colab_type": "code",
        "colab": {
          "base_uri": "https://localhost:8080/",
          "height": 34
        },
        "outputId": "f6fc25c2-ad85-4fec-cd81-ccf1dc146bde"
      },
      "source": [
        "A2.upper()"
      ],
      "execution_count": null,
      "outputs": [
        {
          "output_type": "execute_result",
          "data": {
            "application/vnd.google.colaboratory.intrinsic+json": {
              "type": "string"
            },
            "text/plain": [
              "'PQR'"
            ]
          },
          "metadata": {
            "tags": []
          },
          "execution_count": 114
        }
      ]
    },
    {
      "cell_type": "code",
      "metadata": {
        "id": "J0EAHewFfWDj",
        "colab_type": "code",
        "colab": {
          "base_uri": "https://localhost:8080/",
          "height": 34
        },
        "outputId": "30a30f7a-070d-4aeb-aa8c-447e9980208d"
      },
      "source": [
        "A3.swapcase()"
      ],
      "execution_count": null,
      "outputs": [
        {
          "output_type": "execute_result",
          "data": {
            "application/vnd.google.colaboratory.intrinsic+json": {
              "type": "string"
            },
            "text/plain": [
              "'PABCDqABCDR'"
            ]
          },
          "metadata": {
            "tags": []
          },
          "execution_count": 115
        }
      ]
    },
    {
      "cell_type": "code",
      "metadata": {
        "id": "gDvgF2ZXfZxw",
        "colab_type": "code",
        "colab": {}
      },
      "source": [
        "X=\"hwjw jwjwj ajj\""
      ],
      "execution_count": null,
      "outputs": []
    },
    {
      "cell_type": "code",
      "metadata": {
        "id": "oOqPyEX_fsfc",
        "colab_type": "code",
        "colab": {
          "base_uri": "https://localhost:8080/",
          "height": 34
        },
        "outputId": "da8fd69e-2956-4601-a107-8ebc12f98e99"
      },
      "source": [
        "X.split()"
      ],
      "execution_count": null,
      "outputs": [
        {
          "output_type": "execute_result",
          "data": {
            "text/plain": [
              "['hwjw', 'jwjwj', 'ajj']"
            ]
          },
          "metadata": {
            "tags": []
          },
          "execution_count": 117
        }
      ]
    },
    {
      "cell_type": "markdown",
      "metadata": {
        "id": "u6ISCeu7gLgv",
        "colab_type": "text"
      },
      "source": [
        "**#INTEGER**"
      ]
    },
    {
      "cell_type": "code",
      "metadata": {
        "id": "tk4TZbItgSGZ",
        "colab_type": "code",
        "colab": {}
      },
      "source": [
        "a=145\n",
        "b=15"
      ],
      "execution_count": null,
      "outputs": []
    },
    {
      "cell_type": "code",
      "metadata": {
        "id": "bgAzkyvGg7Hz",
        "colab_type": "code",
        "colab": {
          "base_uri": "https://localhost:8080/",
          "height": 34
        },
        "outputId": "f0500e11-bfe3-4267-d5e9-cb1be4bb0d65"
      },
      "source": [
        "print(a,b)"
      ],
      "execution_count": null,
      "outputs": [
        {
          "output_type": "stream",
          "text": [
            "145 15\n"
          ],
          "name": "stdout"
        }
      ]
    },
    {
      "cell_type": "code",
      "metadata": {
        "id": "GojzqVC0hA0j",
        "colab_type": "code",
        "colab": {
          "base_uri": "https://localhost:8080/",
          "height": 34
        },
        "outputId": "19ac0b44-cf0c-43a7-9480-690bd12d38ff"
      },
      "source": [
        "print(a+b)"
      ],
      "execution_count": null,
      "outputs": [
        {
          "output_type": "stream",
          "text": [
            "160\n"
          ],
          "name": "stdout"
        }
      ]
    },
    {
      "cell_type": "code",
      "metadata": {
        "id": "-4StPZGfhI0m",
        "colab_type": "code",
        "colab": {
          "base_uri": "https://localhost:8080/",
          "height": 34
        },
        "outputId": "1f82d94f-a964-4b95-bf0a-1c1a4c8bddb7"
      },
      "source": [
        "print(a/b)"
      ],
      "execution_count": null,
      "outputs": [
        {
          "output_type": "stream",
          "text": [
            "9.666666666666666\n"
          ],
          "name": "stdout"
        }
      ]
    },
    {
      "cell_type": "code",
      "metadata": {
        "id": "vawJVQQeiv6v",
        "colab_type": "code",
        "colab": {
          "base_uri": "https://localhost:8080/",
          "height": 34
        },
        "outputId": "0af40a45-a83a-4a6b-e8bc-f81b375f7835"
      },
      "source": [
        "type(a)"
      ],
      "execution_count": 122,
      "outputs": [
        {
          "output_type": "execute_result",
          "data": {
            "text/plain": [
              "int"
            ]
          },
          "metadata": {
            "tags": []
          },
          "execution_count": 122
        }
      ]
    }
  ]
}